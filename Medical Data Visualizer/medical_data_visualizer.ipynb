# Step 1: Import libraries
import pandas as pd
import seaborn as sns
import matplotlib.pyplot as plt
import numpy as np
from io import StringIO
# Step 2: Load the dataset (paste CSV content as a string)
csv_data = """age,height,weight,gender,ap_hi,ap_lo,cholesterol,gluc,smoke,alco,active,cardio
18393,168,62,2,110,80,1,1,0,0,1,0
20228,156,85,1,140,90,3,1,0,0,1,1
18857,165,64,1,130,70,1,1,0,0,0,1
17623,169,82,2,150,100,2,2,0,0,1,1
17474,156,56,1,100,60,1,1,0,0,0,0
"""
df = pd.read_csv(StringIO(csv_data))
# Step 3: Add overweight column (BMI > 25)
df['overweight'] = ((df['weight'] / ((df['height'] / 100) ** 2)) > 25).astype(int)
# Step 4: Normalize cholesterol and glucose
df['cholesterol'] = (df['cholesterol'] > 1).astype(int)
df['gluc'] = (df['gluc'] > 1).astype(int)
# Step 5: Function to draw the categorical plot
def draw_cat_plot():
    # Melt the DataFrame
    df_cat = pd.melt(df,
                     id_vars=['cardio'],
                     value_vars=['cholesterol', 'gluc', 'smoke', 'alco', 'active', 'overweight'])

    # Group and count
    df_cat = df_cat.value_counts().reset_index(name='total')

    # Draw the catplot
    fig = sns.catplot(x='variable', y='total', hue='value', col='cardio',
                      data=df_cat, kind='bar').fig
    return fig
# Step 6: Show categorical plot
fig1 = draw_cat_plot()
plt.show()
# Step 7: Function to draw the heat map
def draw_heat_map():
    # Clean the data
    df_heat = df[
        (df['ap_lo'] <= df['ap_hi']) &
        (df['height'] >= df['height'].quantile(0.025)) &
        (df['height'] <= df['height'].quantile(0.975)) &
        (df['weight'] >= df['weight'].quantile(0.025)) &
        (df['weight'] <= df['weight'].quantile(0.975))
    ]

    # Correlation matrix
    corr = df_heat.corr()

    # Generate a mask
    mask = np.triu(np.ones_like(corr, dtype=bool))

    # Set up the matplotlib figure
    fig, ax = plt.subplots(figsize=(10, 8))

    # Draw the heatmap
    sns.heatmap(corr, mask=mask, annot=True, fmt=".1f", center=0, square=True, linewidths=0.5, cbar_kws={'shrink': 0.5})
    return fig
# Step 8: Show heatmap
fig2 = draw_heat_map()
plt.show()
