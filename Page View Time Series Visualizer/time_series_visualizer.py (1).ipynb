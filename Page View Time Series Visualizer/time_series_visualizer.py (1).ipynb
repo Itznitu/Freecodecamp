{
 "cells": [
  {
   "cell_type": "code",
   "execution_count": 25,
   "id": "9be1a3c1-70d8-4796-9dde-27023daccd49",
   "metadata": {},
   "outputs": [
    {
     "name": "stdout",
     "output_type": "stream",
     "text": [
      "Requirement already satisfied: matplotlib in c:\\users\\nemo\\appdata\\local\\programs\\python\\python313\\lib\\site-packages (3.10.3)\n",
      "Requirement already satisfied: seaborn in c:\\users\\nemo\\appdata\\local\\programs\\python\\python313\\lib\\site-packages (0.13.2)\n",
      "Requirement already satisfied: contourpy>=1.0.1 in c:\\users\\nemo\\appdata\\local\\programs\\python\\python313\\lib\\site-packages (from matplotlib) (1.3.2)\n",
      "Requirement already satisfied: cycler>=0.10 in c:\\users\\nemo\\appdata\\local\\programs\\python\\python313\\lib\\site-packages (from matplotlib) (0.12.1)\n",
      "Requirement already satisfied: fonttools>=4.22.0 in c:\\users\\nemo\\appdata\\local\\programs\\python\\python313\\lib\\site-packages (from matplotlib) (4.58.1)\n",
      "Requirement already satisfied: kiwisolver>=1.3.1 in c:\\users\\nemo\\appdata\\local\\programs\\python\\python313\\lib\\site-packages (from matplotlib) (1.4.8)\n",
      "Requirement already satisfied: numpy>=1.23 in c:\\users\\nemo\\appdata\\local\\programs\\python\\python313\\lib\\site-packages (from matplotlib) (2.2.6)\n",
      "Requirement already satisfied: packaging>=20.0 in c:\\users\\nemo\\appdata\\local\\programs\\python\\python313\\lib\\site-packages (from matplotlib) (25.0)\n",
      "Requirement already satisfied: pillow>=8 in c:\\users\\nemo\\appdata\\local\\programs\\python\\python313\\lib\\site-packages (from matplotlib) (11.2.1)\n",
      "Requirement already satisfied: pyparsing>=2.3.1 in c:\\users\\nemo\\appdata\\local\\programs\\python\\python313\\lib\\site-packages (from matplotlib) (3.2.3)\n",
      "Requirement already satisfied: python-dateutil>=2.7 in c:\\users\\nemo\\appdata\\local\\programs\\python\\python313\\lib\\site-packages (from matplotlib) (2.9.0.post0)\n",
      "Requirement already satisfied: pandas>=1.2 in c:\\users\\nemo\\appdata\\local\\programs\\python\\python313\\lib\\site-packages (from seaborn) (2.2.3)\n",
      "Requirement already satisfied: pytz>=2020.1 in c:\\users\\nemo\\appdata\\local\\programs\\python\\python313\\lib\\site-packages (from pandas>=1.2->seaborn) (2025.2)\n",
      "Requirement already satisfied: tzdata>=2022.7 in c:\\users\\nemo\\appdata\\local\\programs\\python\\python313\\lib\\site-packages (from pandas>=1.2->seaborn) (2025.2)\n",
      "Requirement already satisfied: six>=1.5 in c:\\users\\nemo\\appdata\\local\\programs\\python\\python313\\lib\\site-packages (from python-dateutil>=2.7->matplotlib) (1.17.0)\n",
      "Note: you may need to restart the kernel to use updated packages.\n"
     ]
    },
    {
     "name": "stderr",
     "output_type": "stream",
     "text": [
      "\n",
      "[notice] A new release of pip is available: 25.0.1 -> 25.1.1\n",
      "[notice] To update, run: python.exe -m pip install --upgrade pip\n"
     ]
    }
   ],
   "source": [
    "import pandas as pd\n",
    "%pip install matplotlib seaborn\n",
    "import matplotlib as plt\n",
    "import seaborn as sns"
   ]
  },
  {
   "cell_type": "code",
   "execution_count": 26,
   "id": "ed9fbef3-6367-4d93-a07b-142505fe0ee7",
   "metadata": {},
   "outputs": [
    {
     "data": {
      "text/html": [
       "<div>\n",
       "<style scoped>\n",
       "    .dataframe tbody tr th:only-of-type {\n",
       "        vertical-align: middle;\n",
       "    }\n",
       "\n",
       "    .dataframe tbody tr th {\n",
       "        vertical-align: top;\n",
       "    }\n",
       "\n",
       "    .dataframe thead th {\n",
       "        text-align: right;\n",
       "    }\n",
       "</style>\n",
       "<table border=\"1\" class=\"dataframe\">\n",
       "  <thead>\n",
       "    <tr style=\"text-align: right;\">\n",
       "      <th></th>\n",
       "      <th>date</th>\n",
       "      <th>value</th>\n",
       "    </tr>\n",
       "  </thead>\n",
       "  <tbody>\n",
       "    <tr>\n",
       "      <th>0</th>\n",
       "      <td>2016-05-09</td>\n",
       "      <td>1201</td>\n",
       "    </tr>\n",
       "    <tr>\n",
       "      <th>1</th>\n",
       "      <td>2016-05-10</td>\n",
       "      <td>2329</td>\n",
       "    </tr>\n",
       "    <tr>\n",
       "      <th>2</th>\n",
       "      <td>2016-05-11</td>\n",
       "      <td>1716</td>\n",
       "    </tr>\n",
       "    <tr>\n",
       "      <th>3</th>\n",
       "      <td>2016-05-12</td>\n",
       "      <td>10539</td>\n",
       "    </tr>\n",
       "    <tr>\n",
       "      <th>4</th>\n",
       "      <td>2016-05-13</td>\n",
       "      <td>6933</td>\n",
       "    </tr>\n",
       "  </tbody>\n",
       "</table>\n",
       "</div>"
      ],
      "text/plain": [
       "         date  value\n",
       "0  2016-05-09   1201\n",
       "1  2016-05-10   2329\n",
       "2  2016-05-11   1716\n",
       "3  2016-05-12  10539\n",
       "4  2016-05-13   6933"
      ]
     },
     "execution_count": 26,
     "metadata": {},
     "output_type": "execute_result"
    }
   ],
   "source": [
    "#Or maybe no header at all, and Pandas misinterpreted the first row as data — not column names.\n",
    "df = pd.read_csv(\"fcc-forum-pageviews.csv\", skipinitialspace=True)\n",
    "df.head()"
   ]
  },
  {
   "cell_type": "code",
   "execution_count": 27,
   "id": "f2e8b26e-9663-4859-95bc-85de76beefb8",
   "metadata": {},
   "outputs": [
    {
     "data": {
      "text/html": [
       "<div>\n",
       "<style scoped>\n",
       "    .dataframe tbody tr th:only-of-type {\n",
       "        vertical-align: middle;\n",
       "    }\n",
       "\n",
       "    .dataframe tbody tr th {\n",
       "        vertical-align: top;\n",
       "    }\n",
       "\n",
       "    .dataframe thead th {\n",
       "        text-align: right;\n",
       "    }\n",
       "</style>\n",
       "<table border=\"1\" class=\"dataframe\">\n",
       "  <thead>\n",
       "    <tr style=\"text-align: right;\">\n",
       "      <th></th>\n",
       "      <th>value</th>\n",
       "    </tr>\n",
       "    <tr>\n",
       "      <th>date</th>\n",
       "      <th></th>\n",
       "    </tr>\n",
       "  </thead>\n",
       "  <tbody>\n",
       "    <tr>\n",
       "      <th>2016-05-09</th>\n",
       "      <td>1201</td>\n",
       "    </tr>\n",
       "    <tr>\n",
       "      <th>2016-05-10</th>\n",
       "      <td>2329</td>\n",
       "    </tr>\n",
       "    <tr>\n",
       "      <th>2016-05-11</th>\n",
       "      <td>1716</td>\n",
       "    </tr>\n",
       "    <tr>\n",
       "      <th>2016-05-12</th>\n",
       "      <td>10539</td>\n",
       "    </tr>\n",
       "    <tr>\n",
       "      <th>2016-05-13</th>\n",
       "      <td>6933</td>\n",
       "    </tr>\n",
       "  </tbody>\n",
       "</table>\n",
       "</div>"
      ],
      "text/plain": [
       "            value\n",
       "date             \n",
       "2016-05-09   1201\n",
       "2016-05-10   2329\n",
       "2016-05-11   1716\n",
       "2016-05-12  10539\n",
       "2016-05-13   6933"
      ]
     },
     "execution_count": 27,
     "metadata": {},
     "output_type": "execute_result"
    }
   ],
   "source": [
    "#This is a Pandas function that converts a column (or Series) of strings (like \"2016-05-09\") into actual datetime64 objects — which Python and Pandas can understand as real dates.\n",
    "df['date']=pd.to_datetime(df['date'],errors='coerce')#Convert 'date' column to datetime\n",
    "df.set_index('date',inplace=True)# Set 'date' as the index, row index is the label used to identify each row \n",
    "df.head()\n",
    "\n"
   ]
  },
  {
   "cell_type": "code",
   "execution_count": 28,
   "id": "a039012d-9007-4744-a75e-c4c436fcfb55",
   "metadata": {},
   "outputs": [],
   "source": [
    "# Sort the index (optional but good practice)\n",
    "df.sort_index(inplace=True)\n"
   ]
  },
  {
   "cell_type": "code",
   "execution_count": 29,
   "id": "67425f5f-bfc0-4f98-9c2b-1593307279ee",
   "metadata": {},
   "outputs": [],
   "source": [
    "#STEP 2: Clean the Data (Remove Top and Bottom 2.5% Outliers)\n",
    "#This means we keep only the middle 95% of the data — the part that reflects normal behavior.\n",
    "#quarantile() Pandas internally sorts the column "
   ]
  },
  {
   "cell_type": "code",
   "execution_count": 30,
   "id": "a0cf4f90-7198-4f96-b0cf-b6e40255d35a",
   "metadata": {},
   "outputs": [],
   "source": [
    "top = df['value'].quantile(0.025)\n",
    "bottom=df['value'].quantile(0.975)"
   ]
  },
  {
   "cell_type": "code",
   "execution_count": 31,
   "id": "13227fe3-97e4-4a5b-b137-9327856cf72d",
   "metadata": {},
   "outputs": [],
   "source": [
    "# step: Create a bar chart that shows average daily page views for each month grouped by year.\n"
   ]
  },
  {
   "cell_type": "code",
   "execution_count": 42,
   "id": "7cfc4a46-84d2-463a-8cbb-3f8583a88286",
   "metadata": {},
   "outputs": [],
   "source": [
    "df_bar = df.copy()\n",
    "#Add 'year' and 'month' columns\n",
    "df['year']= df.index.year\n",
    "df['month']= df.index.month\n",
    "df['day']=df.index.day"
   ]
  },
  {
   "cell_type": "code",
   "execution_count": 43,
   "id": "8cc728e5-b81d-4da7-9303-2c1efdf2fd68",
   "metadata": {},
   "outputs": [
    {
     "data": {
      "text/html": [
       "<div>\n",
       "<style scoped>\n",
       "    .dataframe tbody tr th:only-of-type {\n",
       "        vertical-align: middle;\n",
       "    }\n",
       "\n",
       "    .dataframe tbody tr th {\n",
       "        vertical-align: top;\n",
       "    }\n",
       "\n",
       "    .dataframe thead th {\n",
       "        text-align: right;\n",
       "    }\n",
       "</style>\n",
       "<table border=\"1\" class=\"dataframe\">\n",
       "  <thead>\n",
       "    <tr style=\"text-align: right;\">\n",
       "      <th></th>\n",
       "      <th>value</th>\n",
       "      <th>year</th>\n",
       "      <th>month</th>\n",
       "      <th>day</th>\n",
       "    </tr>\n",
       "    <tr>\n",
       "      <th>date</th>\n",
       "      <th></th>\n",
       "      <th></th>\n",
       "      <th></th>\n",
       "      <th></th>\n",
       "    </tr>\n",
       "  </thead>\n",
       "  <tbody>\n",
       "    <tr>\n",
       "      <th>2016-05-09</th>\n",
       "      <td>1201</td>\n",
       "      <td>2016</td>\n",
       "      <td>5</td>\n",
       "      <td>9</td>\n",
       "    </tr>\n",
       "    <tr>\n",
       "      <th>2016-05-10</th>\n",
       "      <td>2329</td>\n",
       "      <td>2016</td>\n",
       "      <td>5</td>\n",
       "      <td>10</td>\n",
       "    </tr>\n",
       "    <tr>\n",
       "      <th>2016-05-11</th>\n",
       "      <td>1716</td>\n",
       "      <td>2016</td>\n",
       "      <td>5</td>\n",
       "      <td>11</td>\n",
       "    </tr>\n",
       "    <tr>\n",
       "      <th>2016-05-12</th>\n",
       "      <td>10539</td>\n",
       "      <td>2016</td>\n",
       "      <td>5</td>\n",
       "      <td>12</td>\n",
       "    </tr>\n",
       "    <tr>\n",
       "      <th>2016-05-13</th>\n",
       "      <td>6933</td>\n",
       "      <td>2016</td>\n",
       "      <td>5</td>\n",
       "      <td>13</td>\n",
       "    </tr>\n",
       "  </tbody>\n",
       "</table>\n",
       "</div>"
      ],
      "text/plain": [
       "            value  year  month  day\n",
       "date                               \n",
       "2016-05-09   1201  2016      5    9\n",
       "2016-05-10   2329  2016      5   10\n",
       "2016-05-11   1716  2016      5   11\n",
       "2016-05-12  10539  2016      5   12\n",
       "2016-05-13   6933  2016      5   13"
      ]
     },
     "execution_count": 43,
     "metadata": {},
     "output_type": "execute_result"
    }
   ],
   "source": [
    "# group by year and month, get average page views\n",
    "yearly_avg = df.groupby('year')['value'].mean()\n",
    "df.head()"
   ]
  },
  {
   "cell_type": "code",
   "execution_count": null,
   "id": "a20a2ca8-7e1c-46bd-adc9-69a0c18ace4a",
   "metadata": {},
   "outputs": [],
   "source": []
  },
  {
   "cell_type": "code",
   "execution_count": 44,
   "id": "c26a4244-dab9-408a-9b39-ca36631cccd5",
   "metadata": {},
   "outputs": [],
   "source": [
    "#ploting line chart4"
   ]
  },
  {
   "cell_type": "code",
   "execution_count": 45,
   "id": "a2f45bb0-b9ca-4571-8e60-0912262cb7b3",
   "metadata": {},
   "outputs": [
    {
     "data": {
      "text/plain": [
       "<Axes: title={'center': 'Page Views Over Time'}, xlabel='year'>"
      ]
     },
     "execution_count": 45,
     "metadata": {},
     "output_type": "execute_result"
    },
    {
     "data": {
      "image/png": "[encoded data removed]",
      "text/plain": [
       "<Figure size 640x480 with 1 Axes>"
      ]
     },
     "metadata": {},
     "output_type": "display_data"
    }
   ],
   "source": [
    "#df['value'],df['date'].plot(kind='line',marker='o',title='page views over time')\n",
    "\n",
    "yearly_avg.plot(kind='line', marker='o', title='Page Views Over Time')"
   ]
  },
  {
   "cell_type": "code",
   "execution_count": 46,
   "id": "70961edb-de63-4659-9d3b-f4bdd9e08d74",
   "metadata": {},
   "outputs": [],
   "source": [
    "# Bar Plot (Monthly Averages by Year)"
   ]
  },
  {
   "cell_type": "code",
   "execution_count": 47,
   "id": "e14e59f3-c85f-4cf5-b77d-909dde656651",
   "metadata": {},
   "outputs": [],
   "source": [
    "#visualize the data distribution over:\n",
    "\n",
    "#Years → to show trends over time\n",
    "\n",
    "#Months → to show seasonal variation"
   ]
  },
  {
   "cell_type": "code",
   "execution_count": 52,
   "id": "c08a9b1f-6318-49ca-a8cb-b2f47ef2e737",
   "metadata": {},
   "outputs": [
    {
     "name": "stdout",
     "output_type": "stream",
     "text": [
      "Index(['value', 'year', 'month', 'day'], dtype='object')\n",
      "            value  year  month  day\n",
      "date                               \n",
      "2016-05-09   1201  2016      5    9\n",
      "2016-05-10   2329  2016      5   10\n",
      "2016-05-11   1716  2016      5   11\n",
      "2016-05-12  10539  2016      5   12\n",
      "2016-05-13   6933  2016      5   13\n"
     ]
    }
   ],
   "source": [
    "def draw_bar_plot():\n",
    "    df_bar=df.copy()\n",
    "    # Extract year and month from the index (which is the date)\n",
    "    df_bar['year']=df_bar.index.year\n",
    "    df_bar['month']=df_bar.index.month\n",
    "print(df_bar.columns)\n",
    "print(df_bar.head())\n"
   ]
  },
  {
   "cell_type": "code",
   "execution_count": 53,
   "id": "48e7fde4-fbfd-4c45-be28-fdf23df24a88",
   "metadata": {},
   "outputs": [],
   "source": [
    "#group by year and month,then compute the average page views\n",
    "df_grouped = df_bar.groupby(['year','month'])['value'].mean().unstack()"
   ]
  },
  {
   "cell_type": "code",
   "execution_count": 54,
   "id": "ffb7d9f1-322b-4afc-8fc8-d955178d9998",
   "metadata": {},
   "outputs": [],
   "source": [
    " # Prepare data for box plots\n"
   ]
  },
  {
   "cell_type": "code",
   "execution_count": 68,
   "id": "b77527d9-033a-4fa9-8f8c-0731c88e318f",
   "metadata": {},
   "outputs": [
    {
     "data": {
      "image/png": "[encoded data removed]",
      "text/plain": [
       "<Figure size 1200x800 with 1 Axes>"
      ]
     },
     "metadata": {},
     "output_type": "display_data"
    }
   ],
   "source": [
    "plt_bar = df_grouped.plot(kind='bar', figsize=(12,8))"
   ]
  },
  {
   "cell_type": "code",
   "execution_count": 74,
   "id": "e2bbbe02-389d-426d-9bea-cdfb8d38d30c",
   "metadata": {},
   "outputs": [],
   "source": [
    "import seaborn as sns\n",
    "\n",
    "def draw_box_plot():\n",
    "    df_box = df.copy()\n",
    "    df_box.reset_index(inplace=True)\n",
    "    df_box['year'] = df_box['date'].dt.year\n",
    "    df_box['month'] = df_box['date'].dt.strftime('%b')\n",
    "    df_box['month_num'] = df_box['date'].dt.month\n",
    "    df_box = df_box.sort_values('month_num')\n",
    "\n",
    "    fig, axes = plt.subplots(1, 2, figsize=(16,6))\n",
    "\n",
    "    # Year-wise Box Plot (Trend)\n",
    "    sns.boxplot(x='year', y='value', data=df_box, ax=axes[0])\n",
    "    axes[0].set_title('Year-wise Box Plot (Trend)')\n",
    "    axes[0].set_xlabel('Year')\n",
    "    axes[0].set_ylabel('Page Views')\n",
    "\n",
    "    # Month-wise Box Plot (Seasonality)\n",
    "    sns.boxplot(x='month', y='value', data=df_box, ax=axes[1])\n",
    "    axes[1].set_title('Month-wise Box Plot (Seasonality)')\n",
    "    axes[1].set_xlabel('Month')\n",
    "    axes[1].set_ylabel('Page Views')\n",
    "\n",
    "    plt.tight_layout()\n",
    "    plt.show()\n",
    "\n",
    "# To display\n",
    "# draw_box_plot()\n"
   ]
  },
  {
   "cell_type": "code",
   "execution_count": 75,
   "id": "3ee174e4-c606-4861-8996-f6a63822ab6c",
   "metadata": {},
   "outputs": [
    {
     "data": {
      "image/png": "[encoded data removed]",
      "text/plain": [
       "<Figure size 1600x600 with 2 Axes>"
      ]
     },
     "metadata": {},
     "output_type": "display_data"
    }
   ],
   "source": [
    "draw_box_plot()"
   ]
  },
  {
   "cell_type": "code",
   "execution_count": null,
   "id": "798d9a75-4b4e-4e75-bd00-9e512cdb2ddf",
   "metadata": {},
   "outputs": [],
   "source": []
  },
  {
   "cell_type": "code",
   "execution_count": null,
   "id": "50578472-03af-477c-a18c-bfd7e696c4f3",
   "metadata": {},
   "outputs": [],
   "source": []
  },
  {
   "cell_type": "code",
   "execution_count": null,
   "id": "9dc8a31f-735f-4dd0-a10e-4853876b8c84",
   "metadata": {},
   "outputs": [],
   "source": []
  },
  {
   "cell_type": "code",
   "execution_count": null,
   "id": "4ccc68a2-5861-4891-8407-856f390b6ed5",
   "metadata": {},
   "outputs": [],
   "source": []
  },
  {
   "cell_type": "code",
   "execution_count": null,
   "id": "d7f5ae31-0f20-452f-b2d2-92d2abe45e8e",
   "metadata": {},
   "outputs": [],
   "source": []
  }
 ],
 "metadata": {
  "kernelspec": {
   "display_name": "Python 3 (ipykernel)",
   "language": "python",
   "name": "python3"
  },
  "language_info": {
   "codemirror_mode": {
    "name": "ipython",
    "version": 3
   },
   "file_extension": ".py",
   "mimetype": "text/x-python",
   "name": "python",
   "nbconvert_exporter": "python",
   "pygments_lexer": "ipython3",
   "version": "3.13.3"
  }
 },
 "nbformat": 4,
 "nbformat_minor": 5
}
